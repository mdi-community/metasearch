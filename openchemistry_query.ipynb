{
 "cells": [
  {
   "cell_type": "code",
   "execution_count": 1,
   "metadata": {},
   "outputs": [],
   "source": [
    "import requests\n",
    "import json"
   ]
  },
  {
   "cell_type": "markdown",
   "metadata": {},
   "source": [
    "Query the Open Chemistry RESTful API using a simple get request"
   ]
  },
  {
   "cell_type": "code",
   "execution_count": 2,
   "metadata": {},
   "outputs": [],
   "source": [
    "url = 'https://beta.openchemistry.org/api/v1/molecules?name=caffeine'\n",
    "response = requests.get(url)"
   ]
  },
  {
   "cell_type": "markdown",
   "metadata": {},
   "source": [
    "Simple JSON response from the server showing an array oj objects"
   ]
  },
  {
   "cell_type": "code",
   "execution_count": 3,
   "metadata": {},
   "outputs": [
    {
     "data": {
      "text/plain": [
       "[{'_id': '5c9e7a53de363b00017b6bc5',\n",
       "  'inchikey': 'RYYVLZVUVIJVGH-UHFFFAOYSA-N',\n",
       "  'name': 'Caffeine',\n",
       "  'properties': {'atomCount': 24,\n",
       "   'formula': 'C8H10N4O2',\n",
       "   'heavyAtomCount': 14,\n",
       "   'mass': 194.18919999999986,\n",
       "   'spacedFormula': 'C 8 H 10 N 4 O 2'},\n",
       "  'smiles': 'Cn1cnc2c1c(=O)n(C)c(=O)n2C'}]"
      ]
     },
     "execution_count": 3,
     "metadata": {},
     "output_type": "execute_result"
    }
   ],
   "source": [
    "response.json()"
   ]
  },
  {
   "cell_type": "code",
   "execution_count": null,
   "metadata": {},
   "outputs": [],
   "source": []
  }
 ],
 "metadata": {
  "kernelspec": {
   "display_name": "Python 3",
   "language": "python",
   "name": "python3"
  },
  "language_info": {
   "codemirror_mode": {
    "name": "ipython",
    "version": 3
   },
   "file_extension": ".py",
   "mimetype": "text/x-python",
   "name": "python",
   "nbconvert_exporter": "python",
   "pygments_lexer": "ipython3",
   "version": "3.6.7"
  }
 },
 "nbformat": 4,
 "nbformat_minor": 2
}
