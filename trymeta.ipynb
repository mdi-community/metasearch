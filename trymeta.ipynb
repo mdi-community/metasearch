{
 "cells": [
  {
   "cell_type": "code",
   "execution_count": 1,
   "metadata": {},
   "outputs": [],
   "source": [
    "import metasearch as ms"
   ]
  },
  {
   "cell_type": "code",
   "execution_count": 2,
   "metadata": {},
   "outputs": [
    {
     "name": "stdout",
     "output_type": "stream",
     "text": [
      "Querying myHyperThought...\n",
      "Querying openchemistry...\n"
     ]
    }
   ],
   "source": [
    "fed = ms.createDefaultFederation()\n",
    "query = fed.createQuery()\n",
    "res = query.submit()"
   ]
  },
  {
   "cell_type": "code",
   "execution_count": 3,
   "metadata": {},
   "outputs": [
    {
     "data": {
      "text/plain": [
       "{'myHyperThought': <metasearch.repos.hyperthought.htresult.HTQueryResult at 0x7f326c0cd5c0>,\n",
       " 'openchemistry': [{'_id': '5c9c1c382d22b800013e3b10',\n",
       "   'inchikey': 'LFQSCWFLJHTTHZ-UHFFFAOYSA-N',\n",
       "   'name': 'C2H6O',\n",
       "   'properties': {'atomCount': 9,\n",
       "    'formula': 'C2H6O',\n",
       "    'heavyAtomCount': 3,\n",
       "    'mass': 46.06844000000001,\n",
       "    'spacedFormula': 'C 2 H 6 O 1'},\n",
       "   'smiles': 'CCO'},\n",
       "  {'_id': '5c9c1c442d22b800013e3b11',\n",
       "   'inchikey': 'OKKJLVBELUTLKV-UHFFFAOYSA-N',\n",
       "   'name': 'CH4O',\n",
       "   'properties': {'atomCount': 6,\n",
       "    'formula': 'CH4O',\n",
       "    'heavyAtomCount': 2,\n",
       "    'mass': 32.041760000000004,\n",
       "    'spacedFormula': 'C 1 H 4 O 1'},\n",
       "   'smiles': 'CO'},\n",
       "  {'_id': '5c9c1d512d22b800013e3b12',\n",
       "   'inchikey': 'HEDRZPFGACZZDS-UHFFFAOYSA-N',\n",
       "   'name': 'Chloroform',\n",
       "   'properties': {'atomCount': 5,\n",
       "    'formula': 'CHCl3',\n",
       "    'heavyAtomCount': 4,\n",
       "    'mass': 119.37784,\n",
       "    'spacedFormula': 'C 1 H 1 Cl 3'},\n",
       "   'smiles': 'ClC(Cl)Cl'},\n",
       "  {'_id': '5c9c1e5b2d22b800013e3b67',\n",
       "   'inchikey': 'YXFVVABEGXRONW-UHFFFAOYSA-N',\n",
       "   'name': 'Toluene',\n",
       "   'properties': {'atomCount': 15,\n",
       "    'formula': 'C7H8',\n",
       "    'heavyAtomCount': 7,\n",
       "    'mass': 92.13972,\n",
       "    'spacedFormula': 'C 7 H 8'},\n",
       "   'smiles': 'Cc1ccccc1'},\n",
       "  {'_id': '5c9d12712d22b800013e3bbf',\n",
       "   'inchikey': 'NHYBWOPNGBWAEX-UHFFFAOYSA-N',\n",
       "   'name': 'C17H24N6',\n",
       "   'properties': {'atomCount': 47,\n",
       "    'formula': 'C17H24N6',\n",
       "    'heavyAtomCount': 23,\n",
       "    'mass': 312.41115999999965,\n",
       "    'spacedFormula': 'C 17 H 24 N 6'},\n",
       "   'smiles': 'CN1CNCN(C1)c1ccc(c2c1cccc2)C1NCNCN1'},\n",
       "  {'_id': '5c9d13022d22b800013e3bc1',\n",
       "   'inchikey': 'DUBQSQKRXHPPDH-RKDXNWHRSA-N',\n",
       "   'name': 'C9H11NS4',\n",
       "   'properties': {'atomCount': 25,\n",
       "    'formula': 'C9H11NS4',\n",
       "    'heavyAtomCount': 14,\n",
       "    'mass': 261.4512399999998,\n",
       "    'spacedFormula': 'C 9 H 11 N 1 S 4'},\n",
       "   'smiles': 'S[C@H]1CSC[C@](S1)(S)c1cccnc1'},\n",
       "  {'_id': '5c9d13022d22b800013e3bc2',\n",
       "   'inchikey': 'LXLOAUCOMYIMGF-UHFFFAOYSA-N',\n",
       "   'name': 'C24H16N2S',\n",
       "   'properties': {'atomCount': 43,\n",
       "    'formula': 'C24H16N2S',\n",
       "    'heavyAtomCount': 27,\n",
       "    'mass': 364.4664399999999,\n",
       "    'spacedFormula': 'C 24 H 16 N 2 S 1'},\n",
       "   'smiles': 'c1ccc(nc1)c1scc(c1)c1ccnc(c1)c1ccc2c(c1)cccc2'},\n",
       "  {'_id': '5c9d43a22d22b800013e3cb9',\n",
       "   'inchikey': 'BWEHVPYYWWZYNY-PGUFJCEWSA-N',\n",
       "   'name': 'C39H38N6S4',\n",
       "   'properties': {'atomCount': 87,\n",
       "    'formula': 'C39H38N6S4',\n",
       "    'heavyAtomCount': 49,\n",
       "    'mass': 719.0229199999997,\n",
       "    'spacedFormula': 'C 39 H 38 N 6 S 4'},\n",
       "   'smiles': 'C1SC[C@@H](SC1)c1scc(n1)C1(CCCC1)C1NCN(CN1)c1cccc2c1ccc(c2)c1nccc(c1)c1csc(c1)c1ccccn1'},\n",
       "  {'_id': '5c9d43a32d22b800013e3cba',\n",
       "   'inchikey': 'XXIHPYCGMXLLHT-UHFFFAOYSA-N',\n",
       "   'name': 'C14H8N2OS3',\n",
       "   'properties': {'atomCount': 28,\n",
       "    'formula': 'C14H8N2OS3',\n",
       "    'heavyAtomCount': 20,\n",
       "    'mass': 316.42311999999987,\n",
       "    'spacedFormula': 'C 14 H 8 N 2 O 1 S 3'},\n",
       "   'smiles': 'o1ccc(c1)c1sccc1c1nnc(s1)c1cccs1'},\n",
       "  {'_id': '5c9d43a32d22b800013e3cbb',\n",
       "   'inchikey': 'AELWTXMYLZBDQH-UHFFFAOYSA-N',\n",
       "   'name': 'C20H19NO',\n",
       "   'properties': {'atomCount': 41,\n",
       "    'formula': 'C20H19NO',\n",
       "    'heavyAtomCount': 22,\n",
       "    'mass': 289.37435999999974,\n",
       "    'spacedFormula': 'C 20 H 19 N 1 O 1'},\n",
       "   'smiles': 'c1ccc(cc1)c1ccc(o1)c1cnccc1C1CCCC1'},\n",
       "  {'_id': '5c9d44bf2d22b800013e3dad',\n",
       "   'inchikey': 'NBEWKDTVIOXAMQ-LLVKDONJSA-N',\n",
       "   'name': 'C15H24N4S3',\n",
       "   'properties': {'atomCount': 46,\n",
       "    'formula': 'C15H24N4S3',\n",
       "    'heavyAtomCount': 22,\n",
       "    'mass': 356.57215999999966,\n",
       "    'spacedFormula': 'C 15 H 24 N 4 S 3'},\n",
       "   'smiles': 'N1CNC(NC1)C1(CCCC1)c1csc(n1)[C@H]1CSCCS1'},\n",
       "  {'_id': '5c9e5263de363b00017b6b18',\n",
       "   'inchikey': 'XLYOFNOQVPJJNP-UHFFFAOYSA-N',\n",
       "   'name': 'water',\n",
       "   'properties': {'atomCount': 3,\n",
       "    'formula': 'H2O',\n",
       "    'heavyAtomCount': 1,\n",
       "    'mass': 18.01508,\n",
       "    'spacedFormula': ' H 2 O 1'},\n",
       "   'smiles': 'O'},\n",
       "  {'_id': '5c9e7a53de363b00017b6bc5',\n",
       "   'inchikey': 'RYYVLZVUVIJVGH-UHFFFAOYSA-N',\n",
       "   'name': 'Caffeine',\n",
       "   'properties': {'atomCount': 24,\n",
       "    'formula': 'C8H10N4O2',\n",
       "    'heavyAtomCount': 14,\n",
       "    'mass': 194.18919999999986,\n",
       "    'spacedFormula': 'C 8 H 10 N 4 O 2'},\n",
       "   'smiles': 'Cn1cnc2c1c(=O)n(C)c(=O)n2C'},\n",
       "  {'_id': '5c9e7a54de363b00017b6bc6',\n",
       "   'inchikey': 'TYQCGQRIZGCHNB-DUZGATOHSA-N',\n",
       "   'properties': {'atomCount': 20,\n",
       "    'formula': 'C6H8O6',\n",
       "    'heavyAtomCount': 12,\n",
       "    'mass': 176.12511999999995,\n",
       "    'spacedFormula': 'C 6 H 8 O 6'},\n",
       "   'smiles': 'OC[C@H]([C@H]1OC(=C(C1=O)O)O)O'},\n",
       "  {'_id': '5cbf8823de363b00017b6c77',\n",
       "   'inchikey': 'HLPMMQGKKRNBIC-UHFFFAOYSA-N',\n",
       "   'properties': {'atomCount': 12,\n",
       "    'formula': 'C6H6',\n",
       "    'heavyAtomCount': 6,\n",
       "    'mass': 78.11304,\n",
       "    'spacedFormula': 'C 6 H 6'},\n",
       "   'smiles': 'c1ccccc1'}]}"
      ]
     },
     "execution_count": 3,
     "metadata": {},
     "output_type": "execute_result"
    }
   ],
   "source": [
    "res"
   ]
  },
  {
   "cell_type": "code",
   "execution_count": 4,
   "metadata": {},
   "outputs": [
    {
     "name": "stdout",
     "output_type": "stream",
     "text": [
      "Querying myHyperThought...\n",
      "Querying openchemistry...\n"
     ]
    }
   ],
   "source": [
    "query = fed.createQuery()\n",
    "query.add_freetext_constraint(\"caffeine\")\n",
    "res = query.submit()"
   ]
  },
  {
   "cell_type": "code",
   "execution_count": 5,
   "metadata": {},
   "outputs": [
    {
     "data": {
      "text/plain": [
       "{'myHyperThought': <metasearch.repos.hyperthought.htresult.HTQueryResult at 0x7f326c0e19e8>,\n",
       " 'openchemistry': [{'_id': '5c9e7a53de363b00017b6bc5',\n",
       "   'inchikey': 'RYYVLZVUVIJVGH-UHFFFAOYSA-N',\n",
       "   'name': 'Caffeine',\n",
       "   'properties': {'atomCount': 24,\n",
       "    'formula': 'C8H10N4O2',\n",
       "    'heavyAtomCount': 14,\n",
       "    'mass': 194.18919999999986,\n",
       "    'spacedFormula': 'C 8 H 10 N 4 O 2'},\n",
       "   'smiles': 'Cn1cnc2c1c(=O)n(C)c(=O)n2C'}]}"
      ]
     },
     "execution_count": 5,
     "metadata": {},
     "output_type": "execute_result"
    }
   ],
   "source": [
    "res"
   ]
  },
  {
   "cell_type": "code",
   "execution_count": 6,
   "metadata": {},
   "outputs": [
    {
     "name": "stdout",
     "output_type": "stream",
     "text": [
      "Querying myHyperThought...\n",
      "Querying openchemistry...\n"
     ]
    }
   ],
   "source": [
    "query = fed.createQuery()\n",
    "query.add_freetext_constraint(\"data\")\n",
    "res = query.submit()"
   ]
  },
  {
   "cell_type": "code",
   "execution_count": 7,
   "metadata": {},
   "outputs": [
    {
     "data": {
      "text/plain": [
       "{'myHyperThought': <metasearch.repos.hyperthought.htresult.HTQueryResult at 0x7f326c02b6a0>,\n",
       " 'openchemistry': []}"
      ]
     },
     "execution_count": 7,
     "metadata": {},
     "output_type": "execute_result"
    }
   ],
   "source": [
    "res"
   ]
  },
  {
   "cell_type": "code",
   "execution_count": null,
   "metadata": {},
   "outputs": [],
   "source": []
  }
 ],
 "metadata": {
  "kernelspec": {
   "display_name": "Python 3",
   "language": "python",
   "name": "python3"
  },
  "language_info": {
   "codemirror_mode": {
    "name": "ipython",
    "version": 3
   },
   "file_extension": ".py",
   "mimetype": "text/x-python",
   "name": "python",
   "nbconvert_exporter": "python",
   "pygments_lexer": "ipython3",
   "version": "3.6.7"
  }
 },
 "nbformat": 4,
 "nbformat_minor": 2
}
