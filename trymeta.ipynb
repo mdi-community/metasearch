{
 "cells": [
  {
   "cell_type": "code",
   "execution_count": 1,
   "metadata": {},
   "outputs": [],
   "source": [
    "import metasearch as ms"
   ]
  },
  {
   "cell_type": "code",
   "execution_count": 2,
   "metadata": {},
   "outputs": [
    {
     "name": "stdout",
     "output_type": "stream",
     "text": [
      "Querying myHyperThought...\n",
      "Querying openchemistry...\n"
     ]
    }
   ],
   "source": [
    "fed = ms.createDefaultFederation()\n",
    "query = fed.createQuery()\n",
    "res = query.submit()"
   ]
  },
  {
   "cell_type": "code",
   "execution_count": 3,
   "metadata": {},
   "outputs": [
    {
     "data": {
      "text/plain": [
       "{'myHyperThought': <metasearch.repos.hyperthought.htresult.HTQueryResult at 0x7ffae42331d0>,\n",
       " 'openchemistry': <metasearch.repos.openchemistry.openchemistryresult.OpenChemistryQueryResult at 0x7ffae41d80b8>}"
      ]
     },
     "execution_count": 3,
     "metadata": {},
     "output_type": "execute_result"
    }
   ],
   "source": [
    "res"
   ]
  },
  {
   "cell_type": "code",
   "execution_count": 4,
   "metadata": {},
   "outputs": [
    {
     "data": {
      "text/plain": [
       "{'results': [], 'start': 0, 'end': 20}"
      ]
     },
     "execution_count": 4,
     "metadata": {},
     "output_type": "execute_result"
    }
   ],
   "source": [
    "res['myHyperThought'].native"
   ]
  },
  {
   "cell_type": "code",
   "execution_count": 5,
   "metadata": {},
   "outputs": [
    {
     "data": {
      "text/plain": [
       "15"
      ]
     },
     "execution_count": 5,
     "metadata": {},
     "output_type": "execute_result"
    }
   ],
   "source": [
    "res['openchemistry'].count()"
   ]
  },
  {
   "cell_type": "code",
   "execution_count": 6,
   "metadata": {},
   "outputs": [
    {
     "name": "stdout",
     "output_type": "stream",
     "text": [
      "Querying myHyperThought...\n",
      "Querying openchemistry...\n"
     ]
    }
   ],
   "source": [
    "query = fed.createQuery()\n",
    "query.add_freetext_constraint(\"caffeine\")\n",
    "res = query.submit()"
   ]
  },
  {
   "cell_type": "code",
   "execution_count": 7,
   "metadata": {},
   "outputs": [
    {
     "data": {
      "text/plain": [
       "{'end': 25,\n",
       " 'facets': {'Creator': None,\n",
       "  'File Type': None,\n",
       "  'Modified On': None,\n",
       "  'Object Type': None,\n",
       "  'Created On': None},\n",
       " 'start': 0,\n",
       " 'results': []}"
      ]
     },
     "execution_count": 7,
     "metadata": {},
     "output_type": "execute_result"
    }
   ],
   "source": [
    "res['myHyperThought'].native"
   ]
  },
  {
   "cell_type": "code",
   "execution_count": 8,
   "metadata": {},
   "outputs": [
    {
     "data": {
      "text/plain": [
       "[{'_id': '5c9e7a53de363b00017b6bc5',\n",
       "  'inchikey': 'RYYVLZVUVIJVGH-UHFFFAOYSA-N',\n",
       "  'name': 'Caffeine',\n",
       "  'properties': {'atomCount': 24,\n",
       "   'formula': 'C8H10N4O2',\n",
       "   'heavyAtomCount': 14,\n",
       "   'mass': 194.18919999999986,\n",
       "   'spacedFormula': 'C 8 H 10 N 4 O 2'},\n",
       "  'smiles': 'Cn1cnc2c1c(=O)n(C)c(=O)n2C'}]"
      ]
     },
     "execution_count": 8,
     "metadata": {},
     "output_type": "execute_result"
    }
   ],
   "source": [
    "res['openchemistry'].native"
   ]
  },
  {
   "cell_type": "code",
   "execution_count": null,
   "metadata": {},
   "outputs": [],
   "source": [
    "query = fed.createQuery()\n",
    "query.add_freetext_constraint(\"data\")\n",
    "res = query.submit()"
   ]
  },
  {
   "cell_type": "code",
   "execution_count": null,
   "metadata": {},
   "outputs": [],
   "source": [
    "res"
   ]
  },
  {
   "cell_type": "code",
   "execution_count": null,
   "metadata": {},
   "outputs": [],
   "source": [
    "res['myHyperThought'].native"
   ]
  },
  {
   "cell_type": "code",
   "execution_count": null,
   "metadata": {},
   "outputs": [],
   "source": [
    "res['openchemistry'].count()"
   ]
  },
  {
   "cell_type": "code",
   "execution_count": null,
   "metadata": {},
   "outputs": [],
   "source": []
  }
 ],
 "metadata": {
  "kernelspec": {
   "display_name": "Python 3",
   "language": "python",
   "name": "python3"
  },
  "language_info": {
   "codemirror_mode": {
    "name": "ipython",
    "version": 3
   },
   "file_extension": ".py",
   "mimetype": "text/x-python",
   "name": "python",
   "nbconvert_exporter": "python",
   "pygments_lexer": "ipython3",
   "version": "3.6.7"
  }
 },
 "nbformat": 4,
 "nbformat_minor": 2
}
